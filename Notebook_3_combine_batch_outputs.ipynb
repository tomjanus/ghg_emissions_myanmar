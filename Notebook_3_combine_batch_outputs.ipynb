{
 "cells": [
  {
   "cell_type": "markdown",
   "id": "fa7dc70b",
   "metadata": {},
   "source": [
    "## Combine outputs from multiple simulation runs into one complete input/output dataset"
   ]
  },
  {
   "cell_type": "code",
   "execution_count": null,
   "id": "427159d6",
   "metadata": {},
   "outputs": [],
   "source": [
    "library(stringr)\n",
    "library(readxl)\n",
    "library(writexl)\n",
    "library(dplyr)"
   ]
  },
  {
   "cell_type": "code",
   "execution_count": null,
   "id": "ffc19e92",
   "metadata": {},
   "outputs": [],
   "source": [
    "reemission_output_file_folder <- file.path(\"outputs\", \"reemission\")\n",
    "# Regular expression pattern to match filenames\n",
    "pattern <- \"^outputs_(.+)\\\\.xlsx$\"\n",
    "pattern2 <- \"^(.+)outputs_(.+)\\\\.xlsx$\"\n",
    "\n",
    "# Initialise the 'full' dataframe\n",
    "full_df <- data.frame()\n",
    "\n",
    "# List files that match the regular expression\n",
    "matching_files <- list.files(reemission_output_file_folder, pattern = pattern, full.names = TRUE)\n",
    "suffixes <- str_match(matching_files, pattern2)[, 3]\n",
    "\n",
    "# Load (xlsx) files one by one and create a 'superdataframe'\n",
    "for (i in seq_along(matching_files)) {\n",
    "    suffix = suffixes[i]\n",
    "    file = matching_files[i]\n",
    "    ghg_inputs <- readxl::read_excel(file, sheet = \"inputs\")\n",
    "    ghg_outputs <- readxl::read_excel(file, sheet = \"outputs\")\n",
    "    ghg_internal <- readxl::read_excel(file, sheet = \"internals\")\n",
    "    results <- merge(\n",
    "        merge(ghg_inputs, ghg_outputs, by = \"Name\", all = TRUE), ghg_internal, by = \"Name\", all = TRUE)\n",
    "    results <- results %>% mutate(Scenario = suffix)\n",
    "    full_df <- bind_rows(full_df, results)\n",
    "}\n",
    "\n",
    "write.csv(full_df, file = file.path(\"outputs\",\"reemission\",\"combined\",\"combined_outputs.csv\"), row.names = FALSE)\n",
    "write_xlsx(full_df, path = file.path(\"outputs\",\"reemission\", \"combined\", \"combined_outputs.xlsx\"))"
   ]
  },
  {
   "cell_type": "markdown",
   "id": "bfd8254d",
   "metadata": {},
   "source": [
    "### END"
   ]
  }
 ],
 "metadata": {
  "kernelspec": {
   "display_name": "R",
   "language": "R",
   "name": "ir"
  },
  "language_info": {
   "codemirror_mode": "r",
   "file_extension": ".r",
   "mimetype": "text/x-r-source",
   "name": "R",
   "pygments_lexer": "r",
   "version": "4.1.2"
  }
 },
 "nbformat": 4,
 "nbformat_minor": 5
}

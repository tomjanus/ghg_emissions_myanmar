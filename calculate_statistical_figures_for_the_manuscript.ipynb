{
 "cells": [
  {
   "cell_type": "markdown",
   "id": "d30b379f",
   "metadata": {},
   "source": [
    "# Retrieval of data to put in the manuscript text/tables"
   ]
  },
  {
   "cell_type": "code",
   "execution_count": 1,
   "id": "9160601f",
   "metadata": {},
   "outputs": [],
   "source": [
    "import pathlib\n",
    "import numpy as np\n",
    "import pandas as pd\n",
    "import geopandas as gpd\n",
    "# Location of reemission outputs\n",
    "outputs = pathlib.Path(\"outputs/reemission/outputs_MIN_LOW_PRIM.xlsx\")\n",
    "reemission_inputs = pd.read_excel(outputs,'inputs')\n",
    "reemission_outputs = pd.read_excel(outputs,'outputs')\n",
    "reemission_outputs['total_net'] = reemission_outputs['co2_net'] + reemission_outputs['ch4_net']\n",
    "hp_inputs = reemission_inputs.query('type==\"hydroelectric\"')\n",
    "irr_inputs = reemission_inputs.query('type==\"irrigation\"')\n",
    "hp_names = hp_inputs['Name'].to_list()\n",
    "irr_names = irr_inputs['Name'].to_list()\n",
    "hp_mask = reemission_outputs['Name'].isin(hp_names)\n",
    "irr_mask = reemission_outputs['Name'].isin(irr_names)\n",
    "hp_outputs = reemission_outputs[hp_mask]\n",
    "irr_outputs = reemission_outputs[irr_mask]\n",
    "# MOO inputs\n",
    "moo_inputs_path = pathlib.Path(\"outputs/moo/all_hp.csv\")\n",
    "# SHAPE WITH EMISSION INTENSITIES\n",
    "shp_path = pathlib.Path(\"intermediate/out_par_em_ifc.shp\")"
   ]
  },
  {
   "cell_type": "code",
   "execution_count": 3,
   "id": "fc9b7201",
   "metadata": {},
   "outputs": [
    {
     "data": {
      "text/html": [
       "<div>\n",
       "<style scoped>\n",
       "    .dataframe tbody tr th:only-of-type {\n",
       "        vertical-align: middle;\n",
       "    }\n",
       "\n",
       "    .dataframe tbody tr th {\n",
       "        vertical-align: top;\n",
       "    }\n",
       "\n",
       "    .dataframe thead th {\n",
       "        text-align: right;\n",
       "    }\n",
       "</style>\n",
       "<table border=\"1\" class=\"dataframe\">\n",
       "  <thead>\n",
       "    <tr style=\"text-align: right;\">\n",
       "      <th></th>\n",
       "      <th>Name</th>\n",
       "      <th>co2_diffusion</th>\n",
       "      <th>co2_diffusion_nonanthro</th>\n",
       "      <th>co2_preimp</th>\n",
       "      <th>co2_minus_nonanthro</th>\n",
       "      <th>co2_net</th>\n",
       "      <th>co2_total_per_year</th>\n",
       "      <th>co2_total_lifetime</th>\n",
       "      <th>co2_profile_0</th>\n",
       "      <th>co2_profile_1</th>\n",
       "      <th>...</th>\n",
       "      <th>n2o_profile_1</th>\n",
       "      <th>n2o_profile_2</th>\n",
       "      <th>n2o_profile_3</th>\n",
       "      <th>n2o_profile_4</th>\n",
       "      <th>n2o_profile_5</th>\n",
       "      <th>n2o_profile_6</th>\n",
       "      <th>n2o_profile_7</th>\n",
       "      <th>n2o_profile_8</th>\n",
       "      <th>n2o_profile_9</th>\n",
       "      <th>total_net</th>\n",
       "    </tr>\n",
       "  </thead>\n",
       "  <tbody>\n",
       "    <tr>\n",
       "      <th>0</th>\n",
       "      <td>Bawgata</td>\n",
       "      <td>554.2396</td>\n",
       "      <td>380.3627</td>\n",
       "      <td>-498.96</td>\n",
       "      <td>173.8769</td>\n",
       "      <td>672.8369</td>\n",
       "      <td>6759.3197</td>\n",
       "      <td>675.9320</td>\n",
       "      <td>1857.1903</td>\n",
       "      <td>1140.8019</td>\n",
       "      <td>...</td>\n",
       "      <td>2.3092</td>\n",
       "      <td>2.3092</td>\n",
       "      <td>2.3092</td>\n",
       "      <td>2.3092</td>\n",
       "      <td>2.3092</td>\n",
       "      <td>2.3092</td>\n",
       "      <td>2.3092</td>\n",
       "      <td>2.3092</td>\n",
       "      <td>2.3092</td>\n",
       "      <td>917.3691</td>\n",
       "    </tr>\n",
       "    <tr>\n",
       "      <th>1</th>\n",
       "      <td>Belin</td>\n",
       "      <td>594.1059</td>\n",
       "      <td>407.7220</td>\n",
       "      <td>-61.60</td>\n",
       "      <td>186.3838</td>\n",
       "      <td>247.9838</td>\n",
       "      <td>81766.9606</td>\n",
       "      <td>8176.6961</td>\n",
       "      <td>1517.5272</td>\n",
       "      <td>749.6093</td>\n",
       "      <td>...</td>\n",
       "      <td>0.6609</td>\n",
       "      <td>0.6609</td>\n",
       "      <td>0.6609</td>\n",
       "      <td>0.6609</td>\n",
       "      <td>0.6609</td>\n",
       "      <td>0.6609</td>\n",
       "      <td>0.6609</td>\n",
       "      <td>0.6609</td>\n",
       "      <td>0.6609</td>\n",
       "      <td>645.9976</td>\n",
       "    </tr>\n",
       "    <tr>\n",
       "      <th>2</th>\n",
       "      <td>Buywa (upper)</td>\n",
       "      <td>532.1946</td>\n",
       "      <td>365.2337</td>\n",
       "      <td>-229.02</td>\n",
       "      <td>166.9609</td>\n",
       "      <td>395.9809</td>\n",
       "      <td>26236.5086</td>\n",
       "      <td>2623.6509</td>\n",
       "      <td>1533.2264</td>\n",
       "      <td>845.3325</td>\n",
       "      <td>...</td>\n",
       "      <td>0.0241</td>\n",
       "      <td>0.0241</td>\n",
       "      <td>0.0241</td>\n",
       "      <td>0.0241</td>\n",
       "      <td>0.0241</td>\n",
       "      <td>0.0241</td>\n",
       "      <td>0.0241</td>\n",
       "      <td>0.0241</td>\n",
       "      <td>0.0241</td>\n",
       "      <td>729.0018</td>\n",
       "    </tr>\n",
       "    <tr>\n",
       "      <th>3</th>\n",
       "      <td>Buywa</td>\n",
       "      <td>620.2930</td>\n",
       "      <td>425.6937</td>\n",
       "      <td>-139.59</td>\n",
       "      <td>194.5993</td>\n",
       "      <td>334.1893</td>\n",
       "      <td>11664.5432</td>\n",
       "      <td>1166.4543</td>\n",
       "      <td>1659.6920</td>\n",
       "      <td>857.9256</td>\n",
       "      <td>...</td>\n",
       "      <td>0.0146</td>\n",
       "      <td>0.0146</td>\n",
       "      <td>0.0146</td>\n",
       "      <td>0.0146</td>\n",
       "      <td>0.0146</td>\n",
       "      <td>0.0146</td>\n",
       "      <td>0.0146</td>\n",
       "      <td>0.0146</td>\n",
       "      <td>0.0146</td>\n",
       "      <td>1170.1472</td>\n",
       "    </tr>\n",
       "    <tr>\n",
       "      <th>4</th>\n",
       "      <td>Dum Ban</td>\n",
       "      <td>458.5159</td>\n",
       "      <td>314.6696</td>\n",
       "      <td>-48.51</td>\n",
       "      <td>143.8463</td>\n",
       "      <td>192.3563</td>\n",
       "      <td>587.2638</td>\n",
       "      <td>58.7264</td>\n",
       "      <td>1172.1579</td>\n",
       "      <td>579.4982</td>\n",
       "      <td>...</td>\n",
       "      <td>0.0558</td>\n",
       "      <td>0.0558</td>\n",
       "      <td>0.0558</td>\n",
       "      <td>0.0558</td>\n",
       "      <td>0.0558</td>\n",
       "      <td>0.0558</td>\n",
       "      <td>0.0558</td>\n",
       "      <td>0.0558</td>\n",
       "      <td>0.0558</td>\n",
       "      <td>556.6300</td>\n",
       "    </tr>\n",
       "  </tbody>\n",
       "</table>\n",
       "<p>5 rows × 51 columns</p>\n",
       "</div>"
      ],
      "text/plain": [
       "            Name  co2_diffusion  co2_diffusion_nonanthro  co2_preimp  \\\n",
       "0        Bawgata       554.2396                 380.3627     -498.96   \n",
       "1          Belin       594.1059                 407.7220      -61.60   \n",
       "2  Buywa (upper)       532.1946                 365.2337     -229.02   \n",
       "3          Buywa       620.2930                 425.6937     -139.59   \n",
       "4        Dum Ban       458.5159                 314.6696      -48.51   \n",
       "\n",
       "   co2_minus_nonanthro   co2_net  co2_total_per_year  co2_total_lifetime  \\\n",
       "0             173.8769  672.8369           6759.3197            675.9320   \n",
       "1             186.3838  247.9838          81766.9606           8176.6961   \n",
       "2             166.9609  395.9809          26236.5086           2623.6509   \n",
       "3             194.5993  334.1893          11664.5432           1166.4543   \n",
       "4             143.8463  192.3563            587.2638             58.7264   \n",
       "\n",
       "   co2_profile_0  co2_profile_1  ...  n2o_profile_1  n2o_profile_2  \\\n",
       "0      1857.1903      1140.8019  ...         2.3092         2.3092   \n",
       "1      1517.5272       749.6093  ...         0.6609         0.6609   \n",
       "2      1533.2264       845.3325  ...         0.0241         0.0241   \n",
       "3      1659.6920       857.9256  ...         0.0146         0.0146   \n",
       "4      1172.1579       579.4982  ...         0.0558         0.0558   \n",
       "\n",
       "   n2o_profile_3  n2o_profile_4  n2o_profile_5  n2o_profile_6  n2o_profile_7  \\\n",
       "0         2.3092         2.3092         2.3092         2.3092         2.3092   \n",
       "1         0.6609         0.6609         0.6609         0.6609         0.6609   \n",
       "2         0.0241         0.0241         0.0241         0.0241         0.0241   \n",
       "3         0.0146         0.0146         0.0146         0.0146         0.0146   \n",
       "4         0.0558         0.0558         0.0558         0.0558         0.0558   \n",
       "\n",
       "   n2o_profile_8  n2o_profile_9  total_net  \n",
       "0         2.3092         2.3092   917.3691  \n",
       "1         0.6609         0.6609   645.9976  \n",
       "2         0.0241         0.0241   729.0018  \n",
       "3         0.0146         0.0146  1170.1472  \n",
       "4         0.0558         0.0558   556.6300  \n",
       "\n",
       "[5 rows x 51 columns]"
      ]
     },
     "execution_count": 3,
     "metadata": {},
     "output_type": "execute_result"
    }
   ],
   "source": [
    "reemission_outputs.head()"
   ]
  },
  {
   "cell_type": "code",
   "execution_count": 2,
   "id": "6c3a84da",
   "metadata": {},
   "outputs": [
    {
     "data": {
      "text/plain": [
       "count      211.000000\n",
       "mean      2057.155666\n",
       "std       1324.268679\n",
       "min        362.615700\n",
       "25%       1264.203950\n",
       "50%       1855.637400\n",
       "75%       2602.980150\n",
       "max      14275.420200\n",
       "Name: total_net, dtype: float64"
      ]
     },
     "execution_count": 2,
     "metadata": {},
     "output_type": "execute_result"
    }
   ],
   "source": [
    "reemission_outputs['total_net'].describe()"
   ]
  },
  {
   "cell_type": "markdown",
   "id": "db2af776",
   "metadata": {},
   "source": [
    "## Data needed for the Results section, aerial emission rates"
   ]
  },
  {
   "cell_type": "code",
   "execution_count": 54,
   "id": "bc6ed84f",
   "metadata": {},
   "outputs": [
    {
     "data": {
      "text/plain": [
       "Index(['Name', 'co2_diffusion', 'co2_diffusion_nonanthro', 'co2_preimp',\n",
       "       'co2_minus_nonanthro', 'co2_net', 'co2_total_per_year',\n",
       "       'co2_total_lifetime', 'co2_profile_0', 'co2_profile_1', 'co2_profile_2',\n",
       "       'co2_profile_3', 'co2_profile_4', 'co2_profile_5', 'co2_profile_6',\n",
       "       'co2_profile_7', 'co2_profile_8', 'co2_profile_9', 'ch4_diffusion',\n",
       "       'ch4_ebullition', 'ch4_degassing', 'ch4_preimp', 'ch4_net',\n",
       "       'ch4_total_per_year', 'ch4_total_lifetime', 'ch4_profile_0',\n",
       "       'ch4_profile_1', 'ch4_profile_2', 'ch4_profile_3', 'ch4_profile_4',\n",
       "       'ch4_profile_5', 'ch4_profile_6', 'ch4_profile_7', 'ch4_profile_8',\n",
       "       'ch4_profile_9', 'n2o_methodA', 'n2o_methodB', 'n2o_mean',\n",
       "       'n2o_total_per_year', 'n2o_total_lifetime', 'n2o_profile_0',\n",
       "       'n2o_profile_1', 'n2o_profile_2', 'n2o_profile_3', 'n2o_profile_4',\n",
       "       'n2o_profile_5', 'n2o_profile_6', 'n2o_profile_7', 'n2o_profile_8',\n",
       "       'n2o_profile_9', 'total_net'],\n",
       "      dtype='object')"
      ]
     },
     "execution_count": 54,
     "metadata": {},
     "output_type": "execute_result"
    }
   ],
   "source": [
    "reemission_outputs.columns"
   ]
  },
  {
   "cell_type": "code",
   "execution_count": 32,
   "id": "69137dad",
   "metadata": {},
   "outputs": [
    {
     "data": {
      "text/html": [
       "<div>\n",
       "<style scoped>\n",
       "    .dataframe tbody tr th:only-of-type {\n",
       "        vertical-align: middle;\n",
       "    }\n",
       "\n",
       "    .dataframe tbody tr th {\n",
       "        vertical-align: top;\n",
       "    }\n",
       "\n",
       "    .dataframe thead th {\n",
       "        text-align: right;\n",
       "    }\n",
       "</style>\n",
       "<table border=\"1\" class=\"dataframe\">\n",
       "  <thead>\n",
       "    <tr style=\"text-align: right;\">\n",
       "      <th></th>\n",
       "      <th>Name</th>\n",
       "      <th>coordinates_0</th>\n",
       "      <th>coordinates_1</th>\n",
       "      <th>id</th>\n",
       "      <th>type</th>\n",
       "      <th>monthly_temps_0</th>\n",
       "      <th>monthly_temps_1</th>\n",
       "      <th>monthly_temps_2</th>\n",
       "      <th>monthly_temps_3</th>\n",
       "      <th>monthly_temps_4</th>\n",
       "      <th>...</th>\n",
       "      <th>res_area_fractions_23</th>\n",
       "      <th>res_area_fractions_24</th>\n",
       "      <th>res_area_fractions_25</th>\n",
       "      <th>res_area_fractions_26</th>\n",
       "      <th>res_soil_carbon</th>\n",
       "      <th>res_mean_radiance</th>\n",
       "      <th>res_mean_radiance_may_sept</th>\n",
       "      <th>res_mean_radiance_nov_mar</th>\n",
       "      <th>res_mean_monthly_windspeed</th>\n",
       "      <th>res_water_intake_depth</th>\n",
       "    </tr>\n",
       "  </thead>\n",
       "  <tbody>\n",
       "    <tr>\n",
       "      <th>0</th>\n",
       "      <td>Bawgata</td>\n",
       "      <td>18.2689</td>\n",
       "      <td>96.8598</td>\n",
       "      <td>8</td>\n",
       "      <td>hydroelectric</td>\n",
       "      <td>21.2</td>\n",
       "      <td>23.1</td>\n",
       "      <td>25.9</td>\n",
       "      <td>28.4</td>\n",
       "      <td>27.8</td>\n",
       "      <td>...</td>\n",
       "      <td>0.0</td>\n",
       "      <td>0.0</td>\n",
       "      <td>0.0</td>\n",
       "      <td>0</td>\n",
       "      <td>5.744</td>\n",
       "      <td>5.030</td>\n",
       "      <td>4.340</td>\n",
       "      <td>5.458</td>\n",
       "      <td>0.97</td>\n",
       "      <td>NaN</td>\n",
       "    </tr>\n",
       "    <tr>\n",
       "      <th>1</th>\n",
       "      <td>Belin</td>\n",
       "      <td>17.5197</td>\n",
       "      <td>97.2435</td>\n",
       "      <td>9</td>\n",
       "      <td>hydroelectric</td>\n",
       "      <td>22.4</td>\n",
       "      <td>24.1</td>\n",
       "      <td>27.0</td>\n",
       "      <td>29.6</td>\n",
       "      <td>28.9</td>\n",
       "      <td>...</td>\n",
       "      <td>0.0</td>\n",
       "      <td>0.0</td>\n",
       "      <td>0.0</td>\n",
       "      <td>0</td>\n",
       "      <td>6.062</td>\n",
       "      <td>4.870</td>\n",
       "      <td>3.995</td>\n",
       "      <td>5.459</td>\n",
       "      <td>1.05</td>\n",
       "      <td>NaN</td>\n",
       "    </tr>\n",
       "    <tr>\n",
       "      <th>2</th>\n",
       "      <td>Buywa (upper)</td>\n",
       "      <td>20.7661</td>\n",
       "      <td>94.0818</td>\n",
       "      <td>10</td>\n",
       "      <td>multipurpose</td>\n",
       "      <td>18.5</td>\n",
       "      <td>21.3</td>\n",
       "      <td>25.5</td>\n",
       "      <td>28.3</td>\n",
       "      <td>28.0</td>\n",
       "      <td>...</td>\n",
       "      <td>0.0</td>\n",
       "      <td>0.0</td>\n",
       "      <td>0.0</td>\n",
       "      <td>0</td>\n",
       "      <td>5.701</td>\n",
       "      <td>4.785</td>\n",
       "      <td>4.126</td>\n",
       "      <td>5.202</td>\n",
       "      <td>1.09</td>\n",
       "      <td>NaN</td>\n",
       "    </tr>\n",
       "    <tr>\n",
       "      <th>3</th>\n",
       "      <td>Buywa</td>\n",
       "      <td>20.6566</td>\n",
       "      <td>94.1430</td>\n",
       "      <td>11</td>\n",
       "      <td>multipurpose</td>\n",
       "      <td>19.9</td>\n",
       "      <td>22.6</td>\n",
       "      <td>26.8</td>\n",
       "      <td>29.6</td>\n",
       "      <td>29.3</td>\n",
       "      <td>...</td>\n",
       "      <td>0.0</td>\n",
       "      <td>0.0</td>\n",
       "      <td>0.0</td>\n",
       "      <td>0</td>\n",
       "      <td>5.240</td>\n",
       "      <td>4.850</td>\n",
       "      <td>4.300</td>\n",
       "      <td>5.188</td>\n",
       "      <td>1.03</td>\n",
       "      <td>NaN</td>\n",
       "    </tr>\n",
       "    <tr>\n",
       "      <th>4</th>\n",
       "      <td>Dum Ban</td>\n",
       "      <td>25.5116</td>\n",
       "      <td>97.9070</td>\n",
       "      <td>21</td>\n",
       "      <td>hydroelectric</td>\n",
       "      <td>15.0</td>\n",
       "      <td>16.8</td>\n",
       "      <td>20.5</td>\n",
       "      <td>23.2</td>\n",
       "      <td>25.2</td>\n",
       "      <td>...</td>\n",
       "      <td>0.0</td>\n",
       "      <td>0.0</td>\n",
       "      <td>0.0</td>\n",
       "      <td>0</td>\n",
       "      <td>6.871</td>\n",
       "      <td>4.430</td>\n",
       "      <td>3.968</td>\n",
       "      <td>4.680</td>\n",
       "      <td>1.04</td>\n",
       "      <td>NaN</td>\n",
       "    </tr>\n",
       "  </tbody>\n",
       "</table>\n",
       "<p>5 rows × 85 columns</p>\n",
       "</div>"
      ],
      "text/plain": [
       "            Name  coordinates_0  coordinates_1  id           type  \\\n",
       "0        Bawgata        18.2689        96.8598   8  hydroelectric   \n",
       "1          Belin        17.5197        97.2435   9  hydroelectric   \n",
       "2  Buywa (upper)        20.7661        94.0818  10   multipurpose   \n",
       "3          Buywa        20.6566        94.1430  11   multipurpose   \n",
       "4        Dum Ban        25.5116        97.9070  21  hydroelectric   \n",
       "\n",
       "   monthly_temps_0  monthly_temps_1  monthly_temps_2  monthly_temps_3  \\\n",
       "0             21.2             23.1             25.9             28.4   \n",
       "1             22.4             24.1             27.0             29.6   \n",
       "2             18.5             21.3             25.5             28.3   \n",
       "3             19.9             22.6             26.8             29.6   \n",
       "4             15.0             16.8             20.5             23.2   \n",
       "\n",
       "   monthly_temps_4  ...  res_area_fractions_23  res_area_fractions_24  \\\n",
       "0             27.8  ...                    0.0                    0.0   \n",
       "1             28.9  ...                    0.0                    0.0   \n",
       "2             28.0  ...                    0.0                    0.0   \n",
       "3             29.3  ...                    0.0                    0.0   \n",
       "4             25.2  ...                    0.0                    0.0   \n",
       "\n",
       "   res_area_fractions_25  res_area_fractions_26  res_soil_carbon  \\\n",
       "0                    0.0                      0            5.744   \n",
       "1                    0.0                      0            6.062   \n",
       "2                    0.0                      0            5.701   \n",
       "3                    0.0                      0            5.240   \n",
       "4                    0.0                      0            6.871   \n",
       "\n",
       "   res_mean_radiance  res_mean_radiance_may_sept  res_mean_radiance_nov_mar  \\\n",
       "0              5.030                       4.340                      5.458   \n",
       "1              4.870                       3.995                      5.459   \n",
       "2              4.785                       4.126                      5.202   \n",
       "3              4.850                       4.300                      5.188   \n",
       "4              4.430                       3.968                      4.680   \n",
       "\n",
       "   res_mean_monthly_windspeed  res_water_intake_depth  \n",
       "0                        0.97                     NaN  \n",
       "1                        1.05                     NaN  \n",
       "2                        1.09                     NaN  \n",
       "3                        1.03                     NaN  \n",
       "4                        1.04                     NaN  \n",
       "\n",
       "[5 rows x 85 columns]"
      ]
     },
     "execution_count": 32,
     "metadata": {},
     "output_type": "execute_result"
    }
   ],
   "source": [
    "reemission_inputs.head()"
   ]
  },
  {
   "cell_type": "markdown",
   "id": "4030bb63",
   "metadata": {},
   "source": [
    "## Hydroelectric reservoirs"
   ]
  },
  {
   "cell_type": "code",
   "execution_count": 18,
   "id": "4ac4de8a",
   "metadata": {},
   "outputs": [
    {
     "data": {
      "text/plain": [
       "count     42.000000\n",
       "mean      99.424690\n",
       "std      178.331981\n",
       "min        3.053000\n",
       "25%       14.021500\n",
       "50%       29.207000\n",
       "75%       72.109250\n",
       "max      852.695000\n",
       "Name: res_area, dtype: float64"
      ]
     },
     "execution_count": 18,
     "metadata": {},
     "output_type": "execute_result"
    }
   ],
   "source": [
    "# Areas in km2\n",
    "hp_inputs['res_area'].describe()"
   ]
  },
  {
   "cell_type": "code",
   "execution_count": 28,
   "id": "4a55e3bd",
   "metadata": {},
   "outputs": [
    {
     "data": {
      "text/plain": [
       "count    42.000000\n",
       "mean      4.351528\n",
       "std      10.007996\n",
       "min       0.104418\n",
       "25%       0.330324\n",
       "50%       0.958308\n",
       "75%       2.316516\n",
       "max      56.905073\n",
       "Name: res_volume, dtype: float64"
      ]
     },
     "execution_count": 28,
     "metadata": {},
     "output_type": "execute_result"
    }
   ],
   "source": [
    "# Provide volumes in km3\n",
    "(hp_inputs['res_volume']/1e9).describe()"
   ]
  },
  {
   "cell_type": "code",
   "execution_count": 24,
   "id": "7534d4f8",
   "metadata": {},
   "outputs": [
    {
     "data": {
      "text/plain": [
       "count    42.000000\n",
       "mean     34.897619\n",
       "std      17.846069\n",
       "min      13.900000\n",
       "25%      20.100000\n",
       "50%      32.400000\n",
       "75%      44.075000\n",
       "max      85.100000\n",
       "Name: res_mean_depth, dtype: float64"
      ]
     },
     "execution_count": 24,
     "metadata": {},
     "output_type": "execute_result"
    }
   ],
   "source": [
    "hp_inputs['res_mean_depth'].describe()"
   ]
  },
  {
   "cell_type": "code",
   "execution_count": 51,
   "id": "a5f0f148",
   "metadata": {},
   "outputs": [
    {
     "data": {
      "text/plain": [
       "count     42.000000\n",
       "mean     337.710164\n",
       "std      109.370700\n",
       "min       56.626700\n",
       "25%      267.064075\n",
       "50%      329.044050\n",
       "75%      413.046575\n",
       "max      672.836900\n",
       "Name: co2_net, dtype: float64"
      ]
     },
     "execution_count": 51,
     "metadata": {},
     "output_type": "execute_result"
    }
   ],
   "source": [
    "hp_outputs['co2_net'].describe()"
   ]
  },
  {
   "cell_type": "code",
   "execution_count": 55,
   "id": "e8e0ddb7",
   "metadata": {},
   "outputs": [
    {
     "data": {
      "text/plain": [
       "count      42.000000\n",
       "mean      766.835671\n",
       "std       593.833709\n",
       "min       111.729800\n",
       "25%       377.501775\n",
       "50%       634.400150\n",
       "75%       986.644750\n",
       "max      3135.887300\n",
       "Name: ch4_net, dtype: float64"
      ]
     },
     "execution_count": 55,
     "metadata": {},
     "output_type": "execute_result"
    }
   ],
   "source": [
    "hp_outputs['ch4_net'].describe()"
   ]
  },
  {
   "cell_type": "code",
   "execution_count": 58,
   "id": "eedfdf09",
   "metadata": {},
   "outputs": [
    {
     "data": {
      "text/plain": [
       "count      42.000000\n",
       "mean     1104.545836\n",
       "std       593.577183\n",
       "min       362.615700\n",
       "25%       690.616150\n",
       "50%       953.777850\n",
       "75%      1314.597875\n",
       "max      3570.774300\n",
       "Name: total_net, dtype: float64"
      ]
     },
     "execution_count": 58,
     "metadata": {},
     "output_type": "execute_result"
    }
   ],
   "source": [
    "hp_outputs['total_net'].describe()"
   ]
  },
  {
   "cell_type": "markdown",
   "id": "92142b95",
   "metadata": {},
   "source": [
    "## Irrigation reservoirs"
   ]
  },
  {
   "cell_type": "code",
   "execution_count": 59,
   "id": "6c001159",
   "metadata": {},
   "outputs": [
    {
     "data": {
      "text/plain": [
       "count    153.000000\n",
       "mean       7.701732\n",
       "std       18.434726\n",
       "min        0.208000\n",
       "25%        1.482000\n",
       "50%        3.644000\n",
       "75%        7.764000\n",
       "max      210.035000\n",
       "Name: res_area, dtype: float64"
      ]
     },
     "execution_count": 59,
     "metadata": {},
     "output_type": "execute_result"
    }
   ],
   "source": [
    "irr_inputs['res_area'].describe()"
   ]
  },
  {
   "cell_type": "code",
   "execution_count": 73,
   "id": "a37ecb4b",
   "metadata": {},
   "outputs": [
    {
     "data": {
      "text/plain": [
       "count    153.000000\n",
       "mean       6.450161\n",
       "std        3.991689\n",
       "min        0.400000\n",
       "25%        3.962500\n",
       "50%        5.800000\n",
       "75%        7.700000\n",
       "max       24.000000\n",
       "Name: res_mean_depth, dtype: float64"
      ]
     },
     "execution_count": 73,
     "metadata": {},
     "output_type": "execute_result"
    }
   ],
   "source": [
    "# sorted(irr_inputs['res_area'].to_list())\n",
    "irr_inputs['res_mean_depth'].describe()"
   ]
  },
  {
   "cell_type": "code",
   "execution_count": 77,
   "id": "4fd5ce34",
   "metadata": {},
   "outputs": [
    {
     "data": {
      "text/plain": [
       "count      153.000000\n",
       "mean      2355.759333\n",
       "std       1385.913709\n",
       "min        386.410100\n",
       "25%       1531.329900\n",
       "50%       2115.099200\n",
       "75%       2840.441500\n",
       "max      14275.420200\n",
       "Name: total_net, dtype: float64"
      ]
     },
     "execution_count": 77,
     "metadata": {},
     "output_type": "execute_result"
    }
   ],
   "source": [
    "irr_outputs['total_net'].describe()"
   ]
  },
  {
   "cell_type": "code",
   "execution_count": 76,
   "id": "6301df8e",
   "metadata": {},
   "outputs": [
    {
     "data": {
      "text/plain": [
       "count    153.000000\n",
       "mean     377.768789\n",
       "std       78.504531\n",
       "min      155.764700\n",
       "25%      329.369400\n",
       "50%      376.104300\n",
       "75%      422.009700\n",
       "max      670.922400\n",
       "Name: co2_net, dtype: float64"
      ]
     },
     "execution_count": 76,
     "metadata": {},
     "output_type": "execute_result"
    }
   ],
   "source": [
    "irr_outputs['co2_net'].describe()"
   ]
  },
  {
   "cell_type": "code",
   "execution_count": 78,
   "id": "1bd66b15",
   "metadata": {},
   "outputs": [
    {
     "data": {
      "text/plain": [
       "count      153.000000\n",
       "mean      1977.990544\n",
       "std       1390.006329\n",
       "min         31.398100\n",
       "25%       1180.127400\n",
       "50%       1748.277000\n",
       "75%       2464.064900\n",
       "max      14029.034800\n",
       "Name: ch4_net, dtype: float64"
      ]
     },
     "execution_count": 78,
     "metadata": {},
     "output_type": "execute_result"
    }
   ],
   "source": [
    "irr_outputs['ch4_net'].describe()"
   ]
  },
  {
   "cell_type": "code",
   "execution_count": 74,
   "id": "38d2a5c5",
   "metadata": {},
   "outputs": [
    {
     "data": {
      "text/plain": [
       "<Axes: >"
      ]
     },
     "execution_count": 74,
     "metadata": {},
     "output_type": "execute_result"
    },
    {
     "data": {
      "image/png": "[encoded data removed]",
      "text/plain": [
       "<Figure size 640x480 with 1 Axes>"
      ]
     },
     "metadata": {},
     "output_type": "display_data"
    }
   ],
   "source": [
    "irr_inputs['res_mean_depth'].hist(bins=100)"
   ]
  },
  {
   "cell_type": "markdown",
   "id": "051e20d9",
   "metadata": {},
   "source": [
    "## Data needed for the Emission intensities of existing and planned hydropower section"
   ]
  },
  {
   "cell_type": "code",
   "execution_count": 82,
   "id": "6849a23a",
   "metadata": {},
   "outputs": [],
   "source": [
    "moo_inputs = pd.read_csv(moo_inputs_path)\n",
    "# units:\n",
    "# HP_mean in MW\n",
    "# tot_em in tonnesCO2/anum\n",
    "# em_intensity in gCO2/kWh \n",
    "\n",
    "em_intensity = tot_em * 1000000 / (HP * 24 * 365.25 * 1000) "
   ]
  },
  {
   "cell_type": "code",
   "execution_count": 83,
   "id": "040c1567",
   "metadata": {},
   "outputs": [
    {
     "data": {
      "text/html": [
       "<div>\n",
       "<style scoped>\n",
       "    .dataframe tbody tr th:only-of-type {\n",
       "        vertical-align: middle;\n",
       "    }\n",
       "\n",
       "    .dataframe tbody tr th {\n",
       "        vertical-align: top;\n",
       "    }\n",
       "\n",
       "    .dataframe thead th {\n",
       "        text-align: right;\n",
       "    }\n",
       "</style>\n",
       "<table border=\"1\" class=\"dataframe\">\n",
       "  <thead>\n",
       "    <tr style=\"text-align: right;\">\n",
       "      <th></th>\n",
       "      <th>Unnamed: 0</th>\n",
       "      <th>ifc_id</th>\n",
       "      <th>name</th>\n",
       "      <th>type</th>\n",
       "      <th>status</th>\n",
       "      <th>hp_type_ifc</th>\n",
       "      <th>hp_type_reem</th>\n",
       "      <th>HP_mean</th>\n",
       "      <th>HP_firm</th>\n",
       "      <th>tot_em</th>\n",
       "      <th>urban_area_loss_km2</th>\n",
       "      <th>forest_area_loss_km2</th>\n",
       "      <th>crop_area_loss_km2</th>\n",
       "      <th>flooded_villages</th>\n",
       "      <th>status_int</th>\n",
       "    </tr>\n",
       "  </thead>\n",
       "  <tbody>\n",
       "    <tr>\n",
       "      <th>0</th>\n",
       "      <td>0</td>\n",
       "      <td>7</td>\n",
       "      <td>Baluchaung (upper)</td>\n",
       "      <td>hydroelectric</td>\n",
       "      <td>Future</td>\n",
       "      <td>RoR</td>\n",
       "      <td>ror</td>\n",
       "      <td>15.0</td>\n",
       "      <td>0.0</td>\n",
       "      <td>394.4700</td>\n",
       "      <td>0.0</td>\n",
       "      <td>0.000000</td>\n",
       "      <td>0.0</td>\n",
       "      <td>0.0</td>\n",
       "      <td>0</td>\n",
       "    </tr>\n",
       "    <tr>\n",
       "      <th>1</th>\n",
       "      <td>1</td>\n",
       "      <td>2</td>\n",
       "      <td>Baluchaung 1</td>\n",
       "      <td>hydroelectric</td>\n",
       "      <td>Existing</td>\n",
       "      <td>RoR</td>\n",
       "      <td>ror</td>\n",
       "      <td>22.0</td>\n",
       "      <td>22.0</td>\n",
       "      <td>578.5560</td>\n",
       "      <td>0.0</td>\n",
       "      <td>0.000000</td>\n",
       "      <td>0.0</td>\n",
       "      <td>0.0</td>\n",
       "      <td>1</td>\n",
       "    </tr>\n",
       "    <tr>\n",
       "      <th>2</th>\n",
       "      <td>2</td>\n",
       "      <td>4</td>\n",
       "      <td>Baluchaung 2</td>\n",
       "      <td>hydroelectric</td>\n",
       "      <td>Existing</td>\n",
       "      <td>RoR</td>\n",
       "      <td>ror</td>\n",
       "      <td>134.0</td>\n",
       "      <td>134.0</td>\n",
       "      <td>3523.9320</td>\n",
       "      <td>0.0</td>\n",
       "      <td>0.000000</td>\n",
       "      <td>0.0</td>\n",
       "      <td>0.0</td>\n",
       "      <td>1</td>\n",
       "    </tr>\n",
       "    <tr>\n",
       "      <th>3</th>\n",
       "      <td>3</td>\n",
       "      <td>6</td>\n",
       "      <td>Baluchaung 3</td>\n",
       "      <td>hydroelectric</td>\n",
       "      <td>Existing</td>\n",
       "      <td>RoR</td>\n",
       "      <td>ror</td>\n",
       "      <td>42.0</td>\n",
       "      <td>42.0</td>\n",
       "      <td>1104.5160</td>\n",
       "      <td>0.0</td>\n",
       "      <td>0.000000</td>\n",
       "      <td>0.0</td>\n",
       "      <td>0.0</td>\n",
       "      <td>1</td>\n",
       "    </tr>\n",
       "    <tr>\n",
       "      <th>4</th>\n",
       "      <td>4</td>\n",
       "      <td>8</td>\n",
       "      <td>Bawgata</td>\n",
       "      <td>hydroelectric</td>\n",
       "      <td>Future</td>\n",
       "      <td>S</td>\n",
       "      <td>sto</td>\n",
       "      <td>36.0</td>\n",
       "      <td>3.0</td>\n",
       "      <td>9215.8903</td>\n",
       "      <td>0.0</td>\n",
       "      <td>9.764712</td>\n",
       "      <td>0.0</td>\n",
       "      <td>0.0</td>\n",
       "      <td>0</td>\n",
       "    </tr>\n",
       "  </tbody>\n",
       "</table>\n",
       "</div>"
      ],
      "text/plain": [
       "   Unnamed: 0  ifc_id                name           type    status  \\\n",
       "0           0       7  Baluchaung (upper)  hydroelectric    Future   \n",
       "1           1       2        Baluchaung 1  hydroelectric  Existing   \n",
       "2           2       4        Baluchaung 2  hydroelectric  Existing   \n",
       "3           3       6        Baluchaung 3  hydroelectric  Existing   \n",
       "4           4       8             Bawgata  hydroelectric    Future   \n",
       "\n",
       "  hp_type_ifc hp_type_reem  HP_mean  HP_firm     tot_em  urban_area_loss_km2  \\\n",
       "0         RoR          ror     15.0      0.0   394.4700                  0.0   \n",
       "1         RoR          ror     22.0     22.0   578.5560                  0.0   \n",
       "2         RoR          ror    134.0    134.0  3523.9320                  0.0   \n",
       "3         RoR          ror     42.0     42.0  1104.5160                  0.0   \n",
       "4           S          sto     36.0      3.0  9215.8903                  0.0   \n",
       "\n",
       "   forest_area_loss_km2  crop_area_loss_km2  flooded_villages  status_int  \n",
       "0              0.000000                 0.0               0.0           0  \n",
       "1              0.000000                 0.0               0.0           1  \n",
       "2              0.000000                 0.0               0.0           1  \n",
       "3              0.000000                 0.0               0.0           1  \n",
       "4              9.764712                 0.0               0.0           0  "
      ]
     },
     "execution_count": 83,
     "metadata": {},
     "output_type": "execute_result"
    }
   ],
   "source": [
    "moo_inputs.head()"
   ]
  },
  {
   "cell_type": "code",
   "execution_count": 145,
   "id": "354166a2",
   "metadata": {},
   "outputs": [
    {
     "data": {
      "text/plain": [
       "Unnamed: 0              42\n",
       "ifc_id                  42\n",
       "name                    42\n",
       "type                    42\n",
       "status                  42\n",
       "hp_type_ifc             42\n",
       "hp_type_reem            42\n",
       "HP_mean                 42\n",
       "HP_firm                 42\n",
       "tot_em                  42\n",
       "urban_area_loss_km2     42\n",
       "forest_area_loss_km2    42\n",
       "crop_area_loss_km2      42\n",
       "flooded_villages        42\n",
       "status_int              42\n",
       "em_intensity            42\n",
       "dtype: int64"
      ]
     },
     "execution_count": 145,
     "metadata": {},
     "output_type": "execute_result"
    }
   ],
   "source": [
    "moo_inputs.query('status == \"Future\" and hp_type_ifc == \"RoR\"').count()"
   ]
  },
  {
   "cell_type": "code",
   "execution_count": 144,
   "id": "6ec8b393",
   "metadata": {},
   "outputs": [
    {
     "data": {
      "text/plain": [
       "Unnamed: 0              11\n",
       "ifc_id                  11\n",
       "name                    11\n",
       "type                    11\n",
       "status                  11\n",
       "hp_type_ifc             11\n",
       "hp_type_reem            11\n",
       "HP_mean                 11\n",
       "HP_firm                 11\n",
       "tot_em                  11\n",
       "urban_area_loss_km2     11\n",
       "forest_area_loss_km2    11\n",
       "crop_area_loss_km2      11\n",
       "flooded_villages        11\n",
       "status_int              11\n",
       "em_intensity            11\n",
       "dtype: int64"
      ]
     },
     "execution_count": 144,
     "metadata": {},
     "output_type": "execute_result"
    }
   ],
   "source": [
    "moo_inputs.query('status == \"Existing\" and hp_type_ifc == \"RoR\"').count()"
   ]
  },
  {
   "cell_type": "code",
   "execution_count": 89,
   "id": "6a22c1b4",
   "metadata": {},
   "outputs": [
    {
     "data": {
      "text/plain": [
       "Unnamed: 0              6\n",
       "ifc_id                  6\n",
       "name                    6\n",
       "type                    6\n",
       "status                  6\n",
       "hp_type_ifc             6\n",
       "hp_type_reem            6\n",
       "HP_mean                 6\n",
       "HP_firm                 6\n",
       "tot_em                  6\n",
       "urban_area_loss_km2     6\n",
       "forest_area_loss_km2    6\n",
       "crop_area_loss_km2      6\n",
       "flooded_villages        6\n",
       "status_int              6\n",
       "dtype: int64"
      ]
     },
     "execution_count": 89,
     "metadata": {},
     "output_type": "execute_result"
    }
   ],
   "source": [
    "moo_inputs.query('type == \"hydroelectric\" and status == \"Existing\" and hp_type_ifc == \"S\"').count()"
   ]
  },
  {
   "cell_type": "code",
   "execution_count": 90,
   "id": "2dd59388",
   "metadata": {},
   "outputs": [
    {
     "data": {
      "text/plain": [
       "Unnamed: 0              12\n",
       "ifc_id                  12\n",
       "name                    12\n",
       "type                    12\n",
       "status                  12\n",
       "hp_type_ifc             12\n",
       "hp_type_reem            12\n",
       "HP_mean                 12\n",
       "HP_firm                 12\n",
       "tot_em                  12\n",
       "urban_area_loss_km2     12\n",
       "forest_area_loss_km2    12\n",
       "crop_area_loss_km2      12\n",
       "flooded_villages        12\n",
       "status_int              12\n",
       "dtype: int64"
      ]
     },
     "execution_count": 90,
     "metadata": {},
     "output_type": "execute_result"
    }
   ],
   "source": [
    "moo_inputs.query('type == \"multipurpose\" and status == \"Existing\" and hp_type_ifc == \"S\"').count()"
   ]
  },
  {
   "cell_type": "markdown",
   "id": "3f2dc2f9",
   "metadata": {},
   "source": [
    "### Find emission intensities"
   ]
  },
  {
   "cell_type": "code",
   "execution_count": 114,
   "id": "41eeb978",
   "metadata": {},
   "outputs": [],
   "source": [
    "gdf = gpd.read_file(shp_path).rename(columns={'reservoir_': 'res_type'})"
   ]
  },
  {
   "cell_type": "code",
   "execution_count": 115,
   "id": "ed81c9c6",
   "metadata": {},
   "outputs": [
    {
     "data": {
      "text/plain": [
       "Index(['index', 'flow', 'hp', 'level', 'spillflow', 'status', 'min_vol',\n",
       "       'max_vol', 'max_level', 'turbine_el', 'res_type', 'r_area_km2',\n",
       "       'Status_1', 'status_2_i', 'ro_r_or_st', 'hp_type_re', 'res_area',\n",
       "       'mean', 'pctile_2', 'pctile_3', 'pctile_5', 'pctile_10', 'ann_gen',\n",
       "       'em_intensi', 'hp_fractio', 'co2_net', 'ch4_net', 'tot_em_net',\n",
       "       'tot_em', 'em_inten_1', 'ID', 'IFC_ID', 'DAM_HEIGHT', 'FSL (m)',\n",
       "       'LWL (m)', 'HRT', 'Des_Head', 'Des_Disch', 'STOR_MCM', 'Inst_cap',\n",
       "       'Annual Gen', 'RIV_ORD', 'level_head', 'flow_headr', 'plant_fact',\n",
       "       'total_flow', 'f_utility_', 'des_head_1', 'des_flow', 'q_mean_des',\n",
       "       'h_mean_des', 'geometry'],\n",
       "      dtype='object')"
      ]
     },
     "execution_count": 115,
     "metadata": {},
     "output_type": "execute_result"
    }
   ],
   "source": [
    "gdf.columns"
   ]
  },
  {
   "cell_type": "code",
   "execution_count": 156,
   "id": "43af16e4",
   "metadata": {},
   "outputs": [
    {
     "data": {
      "text/plain": [
       "0     Under-Construction\n",
       "1                  Built\n",
       "2                  Built\n",
       "3                  Built\n",
       "4                 LocMoU\n",
       "             ...        \n",
       "94            Identified\n",
       "95               unknown\n",
       "96                 Built\n",
       "97                 Built\n",
       "98                 Built\n",
       "Name: status, Length: 99, dtype: object"
      ]
     },
     "execution_count": 156,
     "metadata": {},
     "output_type": "execute_result"
    }
   ],
   "source": [
    "gdf['status']"
   ]
  },
  {
   "cell_type": "code",
   "execution_count": 132,
   "id": "ad3ee638",
   "metadata": {},
   "outputs": [
    {
     "name": "stdout",
     "output_type": "stream",
     "text": [
      "   hp_type_re   em_intensi\n",
      "0         ror     3.000000\n",
      "1         ror     3.000000\n",
      "2         ror     3.000000\n",
      "3         ror     3.000000\n",
      "4         sto    29.247852\n",
      "..        ...          ...\n",
      "94        sto    42.686953\n",
      "95        sto     4.926455\n",
      "96        sto   242.341523\n",
      "97        ror     3.000000\n",
      "98        sto  1649.293815\n",
      "\n",
      "[99 rows x 2 columns]\n"
     ]
    }
   ],
   "source": [
    "print(gdf[['hp_type_re', 'em_intensi']])"
   ]
  },
  {
   "cell_type": "code",
   "execution_count": 201,
   "id": "3c45a0c5",
   "metadata": {},
   "outputs": [
    {
     "data": {
      "text/plain": [
       "count      55.000000\n",
       "mean      203.538210\n",
       "std       376.906955\n",
       "min         0.531616\n",
       "25%        24.727306\n",
       "50%        84.591128\n",
       "75%       189.937249\n",
       "max      2206.872879\n",
       "Name: em_intensi, dtype: float64"
      ]
     },
     "execution_count": 201,
     "metadata": {},
     "output_type": "execute_result"
    }
   ],
   "source": [
    "gdf.query('hp_type_re != \"ror\"')['em_intensi'].describe()"
   ]
  },
  {
   "cell_type": "code",
   "execution_count": 198,
   "id": "075f56b3",
   "metadata": {},
   "outputs": [],
   "source": [
    "gdf_trimmed = gdf[gdf['em_intensi']>0.6]"
   ]
  },
  {
   "cell_type": "code",
   "execution_count": 199,
   "id": "3ab74216",
   "metadata": {},
   "outputs": [
    {
     "data": {
      "text/plain": [
       "count      54.000000\n",
       "mean      207.297592\n",
       "std       379.403782\n",
       "min         1.158905\n",
       "25%        28.090566\n",
       "50%        90.526734\n",
       "75%       192.037005\n",
       "max      2206.872879\n",
       "Name: em_intensi, dtype: float64"
      ]
     },
     "execution_count": 199,
     "metadata": {},
     "output_type": "execute_result"
    }
   ],
   "source": [
    "gdf_trimmed.query('hp_type_re != \"ror\"')['em_intensi'].describe()"
   ]
  },
  {
   "cell_type": "code",
   "execution_count": 117,
   "id": "b3174f51",
   "metadata": {
    "scrolled": true
   },
   "outputs": [
    {
     "data": {
      "text/plain": [
       "count      16.000000\n",
       "mean      452.087265\n",
       "std       610.555771\n",
       "min        19.576610\n",
       "25%       138.088886\n",
       "50%       189.937249\n",
       "75%       445.736528\n",
       "max      2206.872879\n",
       "Name: em_intensi, dtype: float64"
      ]
     },
     "execution_count": 117,
     "metadata": {},
     "output_type": "execute_result"
    }
   ],
   "source": [
    "gdf.query('res_type == \"multipurpose\"')['em_intensi'].describe()"
   ]
  },
  {
   "cell_type": "code",
   "execution_count": 141,
   "id": "48856925",
   "metadata": {},
   "outputs": [
    {
     "data": {
      "text/plain": [
       "count     33.000000\n",
       "mean      70.380198\n",
       "std       91.823156\n",
       "min        0.531616\n",
       "25%       17.481130\n",
       "50%       37.973061\n",
       "75%       97.406632\n",
       "max      448.455246\n",
       "Name: em_intensi, dtype: float64"
      ]
     },
     "execution_count": 141,
     "metadata": {},
     "output_type": "execute_result"
    }
   ],
   "source": [
    "gdf[(gdf.ro_r_or_st == 'S') & (gdf.res_type == 'hydroelectric')]['em_intensi'].describe()"
   ]
  },
  {
   "cell_type": "code",
   "execution_count": 154,
   "id": "734fec06",
   "metadata": {},
   "outputs": [
    {
     "data": {
      "text/plain": [
       "count     16.000000\n",
       "mean      71.781250\n",
       "std       24.638025\n",
       "min       29.000000\n",
       "25%       56.000000\n",
       "50%       70.750000\n",
       "75%       84.000000\n",
       "max      121.000000\n",
       "Name: des_head_1, dtype: float64"
      ]
     },
     "execution_count": 154,
     "metadata": {},
     "output_type": "execute_result"
    }
   ],
   "source": [
    "gdf.query('res_type == \"multipurpose\"')['des_head_1'].astype(float).describe()"
   ]
  },
  {
   "cell_type": "code",
   "execution_count": 155,
   "id": "a06005f0",
   "metadata": {},
   "outputs": [
    {
     "data": {
      "text/plain": [
       "count     33.000000\n",
       "mean     118.860606\n",
       "std       51.801972\n",
       "min       41.000000\n",
       "25%       95.000000\n",
       "50%      103.000000\n",
       "75%      148.000000\n",
       "max      253.000000\n",
       "Name: des_head_1, dtype: float64"
      ]
     },
     "execution_count": 155,
     "metadata": {},
     "output_type": "execute_result"
    }
   ],
   "source": [
    "gdf[(gdf.ro_r_or_st == 'S') & (gdf.res_type == 'hydroelectric')]['des_head_1'].astype(float).describe()"
   ]
  },
  {
   "cell_type": "code",
   "execution_count": 158,
   "id": "4450273c",
   "metadata": {},
   "outputs": [
    {
     "data": {
      "text/plain": [
       "count      5.000000\n",
       "mean     181.455794\n",
       "std      172.943229\n",
       "min       21.220311\n",
       "25%       48.067642\n",
       "50%      147.194248\n",
       "75%      242.341523\n",
       "max      448.455246\n",
       "Name: em_intensi, dtype: float64"
      ]
     },
     "execution_count": 158,
     "metadata": {},
     "output_type": "execute_result"
    }
   ],
   "source": [
    "hp_sto = gdf[(gdf.ro_r_or_st == 'S') & (gdf.res_type == 'hydroelectric')]\n",
    "hp_sto.query('status == \"Built\"')['em_intensi'].describe()"
   ]
  },
  {
   "cell_type": "code",
   "execution_count": 159,
   "id": "de6ec516",
   "metadata": {},
   "outputs": [
    {
     "data": {
      "text/plain": [
       "count     28.000000\n",
       "mean      50.545270\n",
       "std       53.563904\n",
       "min        0.531616\n",
       "25%       14.600472\n",
       "50%       29.696500\n",
       "75%       63.883471\n",
       "max      185.601300\n",
       "Name: em_intensi, dtype: float64"
      ]
     },
     "execution_count": 159,
     "metadata": {},
     "output_type": "execute_result"
    }
   ],
   "source": [
    "hp_sto.query('status != \"Built\"')['em_intensi'].describe()"
   ]
  },
  {
   "cell_type": "code",
   "execution_count": 166,
   "id": "5794485f",
   "metadata": {},
   "outputs": [
    {
     "data": {
      "text/plain": [
       "35    616.001708\n",
       "Name: em_intensi, dtype: float64"
      ]
     },
     "execution_count": 166,
     "metadata": {},
     "output_type": "execute_result"
    }
   ],
   "source": [
    "gdf[gdf['index'] == \"Lemro 2\"]['em_intensi']"
   ]
  },
  {
   "cell_type": "code",
   "execution_count": 167,
   "id": "60053081",
   "metadata": {},
   "outputs": [
    {
     "data": {
      "text/plain": [
       "5    185.6013\n",
       "Name: em_intensi, dtype: float64"
      ]
     },
     "execution_count": 167,
     "metadata": {},
     "output_type": "execute_result"
    }
   ],
   "source": [
    "gdf[gdf['index'] == \"Belin\"]['em_intensi']"
   ]
  },
  {
   "cell_type": "code",
   "execution_count": 168,
   "id": "2d288ee8",
   "metadata": {},
   "outputs": [
    {
     "data": {
      "text/plain": [
       "34    15.866604\n",
       "Name: em_intensi, dtype: float64"
      ]
     },
     "execution_count": 168,
     "metadata": {},
     "output_type": "execute_result"
    }
   ],
   "source": [
    "gdf[gdf['index'] == \"Laza\"]['em_intensi']"
   ]
  },
  {
   "cell_type": "markdown",
   "id": "e7ce95a2",
   "metadata": {},
   "source": [
    "### Hydropower generation"
   ]
  },
  {
   "cell_type": "code",
   "execution_count": 184,
   "id": "864f985f",
   "metadata": {},
   "outputs": [],
   "source": [
    "current_gen = gdf.query('status == \"Built\"')['ann_gen'].sum()"
   ]
  },
  {
   "cell_type": "code",
   "execution_count": 185,
   "id": "057611d7",
   "metadata": {},
   "outputs": [],
   "source": [
    "planned_gen = gdf.query('status != \"Built\"')['ann_gen'].sum()"
   ]
  },
  {
   "cell_type": "code",
   "execution_count": 186,
   "id": "e12e9096",
   "metadata": {},
   "outputs": [
    {
     "data": {
      "text/plain": [
       "(14466.5298, 223983.57240000003)"
      ]
     },
     "execution_count": 186,
     "metadata": {},
     "output_type": "execute_result"
    }
   ],
   "source": [
    "current_gen, planned_gen"
   ]
  },
  {
   "cell_type": "code",
   "execution_count": 188,
   "id": "ac7a2aa5",
   "metadata": {},
   "outputs": [
    {
     "data": {
      "text/plain": [
       "238450.10220000002"
      ]
     },
     "execution_count": 188,
     "metadata": {},
     "output_type": "execute_result"
    }
   ],
   "source": [
    "current_gen + planned_gen"
   ]
  },
  {
   "cell_type": "code",
   "execution_count": 187,
   "id": "a75606aa",
   "metadata": {},
   "outputs": [
    {
     "data": {
      "text/plain": [
       "0.060669002305002995"
      ]
     },
     "execution_count": 187,
     "metadata": {},
     "output_type": "execute_result"
    }
   ],
   "source": [
    "current_gen / (current_gen + planned_gen)"
   ]
  },
  {
   "cell_type": "markdown",
   "id": "a3acb872",
   "metadata": {},
   "source": [
    "### Optimization"
   ]
  },
  {
   "cell_type": "code",
   "execution_count": 202,
   "id": "1a80f403",
   "metadata": {},
   "outputs": [],
   "source": [
    "nondom = pd.read_csv('em_int_nondom_df.csv')"
   ]
  },
  {
   "cell_type": "code",
   "execution_count": 207,
   "id": "722e23ec",
   "metadata": {},
   "outputs": [],
   "source": [
    "nobuilt = nondom[nondom['Scenario, [1/0]']==0]\n",
    "built = nondom[nondom['Scenario, [1/0]']==1]"
   ]
  },
  {
   "cell_type": "code",
   "execution_count": 214,
   "id": "3d703333",
   "metadata": {},
   "outputs": [
    {
     "data": {
      "text/html": [
       "<div>\n",
       "<style scoped>\n",
       "    .dataframe tbody tr th:only-of-type {\n",
       "        vertical-align: middle;\n",
       "    }\n",
       "\n",
       "    .dataframe tbody tr th {\n",
       "        vertical-align: top;\n",
       "    }\n",
       "\n",
       "    .dataframe thead th {\n",
       "        text-align: right;\n",
       "    }\n",
       "</style>\n",
       "<table border=\"1\" class=\"dataframe\">\n",
       "  <thead>\n",
       "    <tr style=\"text-align: right;\">\n",
       "      <th></th>\n",
       "      <th>Mean annual HP, [MW]</th>\n",
       "      <th>GHG emissions [tonne CO&lt;sub&gt;2,eq&lt;/sub&gt;/year]</th>\n",
       "      <th>Firm HP, [MW]</th>\n",
       "      <th>Agricultural land loss, [km&lt;sup&gt;2&lt;/sup&gt;]</th>\n",
       "      <th>Deforestation, [km&lt;sup&gt;2&lt;/sup&gt;]</th>\n",
       "      <th>No. of selected dams</th>\n",
       "      <th>Dam IDs</th>\n",
       "      <th>Land loss, [km&lt;sup&gt;2&lt;/sup&gt;]</th>\n",
       "      <th>GHG intensity [gCO&lt;sub&gt;2,eq&lt;/sub&gt;/kWh]</th>\n",
       "      <th>Scenario</th>\n",
       "      <th>Firm Power Ratio, [%]</th>\n",
       "      <th>Scenario, [1/0]</th>\n",
       "      <th>Loss of Land [km&lt;sup&gt;2&lt;/sup&gt;]</th>\n",
       "      <th>HP Production [GWh/year]</th>\n",
       "      <th>Mean HP [GWh/d]</th>\n",
       "      <th>Firm HP [GWh/d]</th>\n",
       "    </tr>\n",
       "  </thead>\n",
       "  <tbody>\n",
       "    <tr>\n",
       "      <th>480</th>\n",
       "      <td>1819.4</td>\n",
       "      <td>8694.0</td>\n",
       "      <td>577.53</td>\n",
       "      <td>178.645</td>\n",
       "      <td>17.5028</td>\n",
       "      <td>28</td>\n",
       "      <td>{1, 3, 4, 10, 11, 13, 15, 17, 18, 26, 41, 49, ...</td>\n",
       "      <td>196.1478</td>\n",
       "      <td>0.545117</td>\n",
       "      <td>Not Built</td>\n",
       "      <td>31.742882</td>\n",
       "      <td>0</td>\n",
       "      <td>0-400 km2</td>\n",
       "      <td>15948.8604</td>\n",
       "      <td>43.6656</td>\n",
       "      <td>13.86072</td>\n",
       "    </tr>\n",
       "  </tbody>\n",
       "</table>\n",
       "</div>"
      ],
      "text/plain": [
       "     Mean annual HP, [MW]  GHG emissions [tonne CO<sub>2,eq</sub>/year]  \\\n",
       "480                1819.4                                        8694.0   \n",
       "\n",
       "     Firm HP, [MW]  Agricultural land loss, [km<sup>2</sup>]  \\\n",
       "480         577.53                                   178.645   \n",
       "\n",
       "     Deforestation, [km<sup>2</sup>]  No. of selected dams  \\\n",
       "480                          17.5028                    28   \n",
       "\n",
       "                                               Dam IDs  \\\n",
       "480  {1, 3, 4, 10, 11, 13, 15, 17, 18, 26, 41, 49, ...   \n",
       "\n",
       "     Land loss, [km<sup>2</sup>]  GHG intensity [gCO<sub>2,eq</sub>/kWh]  \\\n",
       "480                     196.1478                                0.545117   \n",
       "\n",
       "      Scenario  Firm Power Ratio, [%]  Scenario, [1/0]  \\\n",
       "480  Not Built              31.742882                0   \n",
       "\n",
       "    Loss of Land [km<sup>2</sup>]  HP Production [GWh/year]  Mean HP [GWh/d]  \\\n",
       "480                     0-400 km2                15948.8604          43.6656   \n",
       "\n",
       "     Firm HP [GWh/d]  \n",
       "480         13.86072  "
      ]
     },
     "execution_count": 214,
     "metadata": {},
     "output_type": "execute_result"
    }
   ],
   "source": [
    "nobuilt[nobuilt['Mean annual HP, [MW]']>1814].head(1)"
   ]
  },
  {
   "cell_type": "code",
   "execution_count": 215,
   "id": "59efa810",
   "metadata": {},
   "outputs": [
    {
     "data": {
      "text/html": [
       "<div>\n",
       "<style scoped>\n",
       "    .dataframe tbody tr th:only-of-type {\n",
       "        vertical-align: middle;\n",
       "    }\n",
       "\n",
       "    .dataframe tbody tr th {\n",
       "        vertical-align: top;\n",
       "    }\n",
       "\n",
       "    .dataframe thead th {\n",
       "        text-align: right;\n",
       "    }\n",
       "</style>\n",
       "<table border=\"1\" class=\"dataframe\">\n",
       "  <thead>\n",
       "    <tr style=\"text-align: right;\">\n",
       "      <th></th>\n",
       "      <th>Mean annual HP, [MW]</th>\n",
       "      <th>GHG emissions [tonne CO&lt;sub&gt;2,eq&lt;/sub&gt;/year]</th>\n",
       "      <th>Firm HP, [MW]</th>\n",
       "      <th>Agricultural land loss, [km&lt;sup&gt;2&lt;/sup&gt;]</th>\n",
       "      <th>Deforestation, [km&lt;sup&gt;2&lt;/sup&gt;]</th>\n",
       "      <th>No. of selected dams</th>\n",
       "      <th>Dam IDs</th>\n",
       "      <th>Land loss, [km&lt;sup&gt;2&lt;/sup&gt;]</th>\n",
       "      <th>GHG intensity [gCO&lt;sub&gt;2,eq&lt;/sub&gt;/kWh]</th>\n",
       "      <th>Scenario</th>\n",
       "      <th>Firm Power Ratio, [%]</th>\n",
       "      <th>Scenario, [1/0]</th>\n",
       "      <th>Loss of Land [km&lt;sup&gt;2&lt;/sup&gt;]</th>\n",
       "      <th>HP Production [GWh/year]</th>\n",
       "      <th>Mean HP [GWh/d]</th>\n",
       "      <th>Firm HP [GWh/d]</th>\n",
       "    </tr>\n",
       "  </thead>\n",
       "  <tbody>\n",
       "    <tr>\n",
       "      <th>479</th>\n",
       "      <td>1815.0</td>\n",
       "      <td>949578.0</td>\n",
       "      <td>689.265</td>\n",
       "      <td>311.514</td>\n",
       "      <td>123.418</td>\n",
       "      <td>30</td>\n",
       "      <td>{1, 2, 3, 10, 11, 22, 23, 28, 29, 31, 40, 41, ...</td>\n",
       "      <td>434.932</td>\n",
       "      <td>59.683262</td>\n",
       "      <td>Built</td>\n",
       "      <td>37.976033</td>\n",
       "      <td>1</td>\n",
       "      <td>400-800 km2</td>\n",
       "      <td>15910.29</td>\n",
       "      <td>43.56</td>\n",
       "      <td>16.54236</td>\n",
       "    </tr>\n",
       "  </tbody>\n",
       "</table>\n",
       "</div>"
      ],
      "text/plain": [
       "     Mean annual HP, [MW]  GHG emissions [tonne CO<sub>2,eq</sub>/year]  \\\n",
       "479                1815.0                                      949578.0   \n",
       "\n",
       "     Firm HP, [MW]  Agricultural land loss, [km<sup>2</sup>]  \\\n",
       "479        689.265                                   311.514   \n",
       "\n",
       "     Deforestation, [km<sup>2</sup>]  No. of selected dams  \\\n",
       "479                          123.418                    30   \n",
       "\n",
       "                                               Dam IDs  \\\n",
       "479  {1, 2, 3, 10, 11, 22, 23, 28, 29, 31, 40, 41, ...   \n",
       "\n",
       "     Land loss, [km<sup>2</sup>]  GHG intensity [gCO<sub>2,eq</sub>/kWh]  \\\n",
       "479                      434.932                               59.683262   \n",
       "\n",
       "    Scenario  Firm Power Ratio, [%]  Scenario, [1/0]  \\\n",
       "479    Built              37.976033                1   \n",
       "\n",
       "    Loss of Land [km<sup>2</sup>]  HP Production [GWh/year]  Mean HP [GWh/d]  \\\n",
       "479                   400-800 km2                  15910.29            43.56   \n",
       "\n",
       "     Firm HP [GWh/d]  \n",
       "479         16.54236  "
      ]
     },
     "execution_count": 215,
     "metadata": {},
     "output_type": "execute_result"
    }
   ],
   "source": [
    "built.head(1)"
   ]
  }
 ],
 "metadata": {
  "kernelspec": {
   "display_name": "Python 3 (ipykernel)",
   "language": "python",
   "name": "python3"
  },
  "language_info": {
   "codemirror_mode": {
    "name": "ipython",
    "version": 3
   },
   "file_extension": ".py",
   "mimetype": "text/x-python",
   "name": "python",
   "nbconvert_exporter": "python",
   "pygments_lexer": "ipython3",
   "version": "3.10.12"
  }
 },
 "nbformat": 4,
 "nbformat_minor": 5
}

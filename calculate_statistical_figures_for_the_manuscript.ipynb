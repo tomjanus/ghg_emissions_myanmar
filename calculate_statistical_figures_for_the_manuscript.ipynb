{
 "cells": [
  {
   "cell_type": "markdown",
   "id": "d30b379f",
   "metadata": {},
   "source": [
    "# Retrieval of data to put in the manuscript text/tables"
   ]
  },
  {
   "cell_type": "code",
   "execution_count": null,
   "id": "51f0a5c8",
   "metadata": {},
   "outputs": [],
   "source": [
    "import pathlib\n",
    "import numpy as np\n",
    "import pandas as pd\n",
    "import geopandas as gpd"
   ]
  },
  {
   "cell_type": "code",
   "execution_count": null,
   "id": "00b7f06a",
   "metadata": {},
   "outputs": [],
   "source": [
    "def filter_dataframe_by_indices(df, indices):\n",
    "    \"\"\"\n",
    "    Filters rows from the dataframe by a list of indices. For indices that do not exist,\n",
    "    prints out the missing indices and returns a dataframe with only the existing indices.\n",
    "\n",
    "    Args:\n",
    "        df (pd.DataFrame): The input dataframe.\n",
    "        indices (list): List of indices to filter by.\n",
    "\n",
    "    Returns:\n",
    "        pd.DataFrame: A dataframe containing only the rows with the existing indices.\n",
    "    \"\"\"\n",
    "    # Convert indices to a set for faster operations\n",
    "    df_indices = set(df.index)\n",
    "    requested_indices = set(indices)\n",
    "\n",
    "    # Find missing indices\n",
    "    missing_indices = requested_indices - df_indices\n",
    "    if missing_indices:\n",
    "        print(f\"Missing indices: {missing_indices}\")\n",
    "\n",
    "    # Filter only the existing indices\n",
    "    existing_indices = requested_indices & df_indices\n",
    "    filtered_df = df.loc[existing_indices]\n",
    "\n",
    "    return filtered_df"
   ]
  },
  {
   "cell_type": "code",
   "execution_count": null,
   "id": "9160601f",
   "metadata": {},
   "outputs": [],
   "source": [
    "# Location of reemission outputs\n",
    "outputs_reemission = pathlib.Path(\"outputs/reemission/outputs_MIN_LOW_PRIM.xlsx\")\n",
    "outputs = pathlib.Path(\"outputs/emissions_comparison/emissions_comparison.xlsx\")\n",
    "reemission_inputs = pd.read_excel(outputs_reemission,'inputs')\n",
    "reemission_outputs = pd.read_excel(outputs)\n",
    "reemission_outputs['total_net'] = reemission_outputs['co2_net'] + reemission_outputs['ch4_net']\n",
    "# Calculate volumes in km3\n",
    "reemission_outputs['res_volume_km3'] = reemission_outputs['res_volume'] / 1_000_000_000\n",
    "reemission_inputs['res_volume_km3'] = reemission_inputs['res_volume'] / 1_000_000_000\n",
    "# Calculate net emissions for soued using the regression from Almeida et al. 2017\n",
    "reemission_outputs['co2_net_soued'] = reemission_outputs['co2_soued'] * 0.25 * (1 + 0.17)\n",
    "reemission_outputs['ch4_net_soued'] = reemission_outputs['ch4_soued'] * 0.90 * (1 + 0.17)\n",
    "reemission_outputs['total_net_soued'] = \\\n",
    "    reemission_outputs['co2_net_soued'] + reemission_outputs['ch4_net_soued']\n",
    "hp_inputs = reemission_inputs.query('type==\"hydroelectric\"')\n",
    "irr_inputs = reemission_inputs.query('type==\"irrigation\"')\n",
    "multi_inputs = reemission_inputs.query('type==\"multipurpose\"')\n",
    "hp_names = hp_inputs['Name'].to_list()\n",
    "irr_names = irr_inputs['Name'].to_list()\n",
    "multi_names = multi_inputs['Name'].to_list()\n",
    "hp_mask = reemission_outputs['Name'].isin(hp_names)\n",
    "irr_mask = reemission_outputs['Name'].isin(irr_names)\n",
    "multi_mask = reemission_outputs['Name'].isin(multi_names)\n",
    "hp_outputs = reemission_outputs[hp_mask]\n",
    "irr_outputs = reemission_outputs[irr_mask]\n",
    "multi_outputs = reemission_outputs[multi_mask]\n",
    "# MOO inputs\n",
    "moo_inputs_path = pathlib.Path(\"outputs/moo/all_hp.csv\")\n",
    "# SHAPE WITH EMISSION INTENSITIES\n",
    "shp_path = pathlib.Path(\"intermediate/out_par_em_ifc.shp\")\n",
    "\n",
    "# Filter MOO inputs\n",
    "moo_inputs = pd.read_csv(moo_inputs_path)\n",
    "# units:\n",
    "# HP_mean in MW\n",
    "# tot_em in tonnesCO2/anum\n",
    "# em_intensity in gCO2/kWh \n",
    "\n",
    "moo_inputs_future_sto = moo_inputs.query('type==\"hydroelectric\" & status==\"Future\" & hp_type_reem ==\"sto\"')\n",
    "moo_inputs_existing_sto = moo_inputs.query('type==\"hydroelectric\" & status==\"Existing\" & hp_type_reem ==\"sto\"')\n",
    "moo_inputs_future_multi = moo_inputs.query('type==\"multipurpose\" & status==\"Future\" & hp_type_reem ==\"sto\"')\n",
    "moo_inputs_existing_multi = moo_inputs.query('type==\"multipurpose\" & status==\"Existing\" & hp_type_reem ==\"sto\"')\n",
    "\n",
    "moo_inputs_future = moo_inputs.query('status==\"Future\" & hp_type_reem ==\"sto\"')\n",
    "moo_inputs_existing = moo_inputs.query('status==\"Existing\" & hp_type_reem ==\"sto\"')\n",
    "\n",
    "def calc_em_intensity(data):\n",
    "    return data['tot_em'] * 1000000 / (data['HP_mean'] * 24 * 365.25 * 1000) \n",
    "\n",
    "def calc_em(data):\n",
    "    return data['total_net']\n",
    "\n",
    "def calc_em_intensity_soued(data):\n",
    "    return data['tot_em_soued'] * 1000000 / (data['HP_mean'] * 24 * 365.25 * 1000) \n",
    "\n",
    "def calc_em_soued(data):\n",
    "    return data['total_net_soued']\n",
    "\n",
    "# Get ids of assets - future sto, existing sto, future multi, existing multi\n",
    "sto_future_ids = moo_inputs_future_sto['ifc_id'].values\n",
    "sto_existing_ids = np.append(moo_inputs_existing_sto['ifc_id'].values, 98)\n",
    "multi_future_ids = moo_inputs_future_multi['ifc_id'].values\n",
    "multi_existing_ids = np.append(moo_inputs_existing_multi['ifc_id'].values, 96)\n",
    "# Find irrigation resrvoir ids\n",
    "sto_multi_ids = np.concatenate((\n",
    "    sto_future_ids,\n",
    "    sto_existing_ids,\n",
    "    multi_future_ids,\n",
    "    multi_existing_ids))\n",
    "irr_ids = np.array(list(set(reemission_outputs['id']) - set(sto_multi_ids)))"
   ]
  },
  {
   "cell_type": "markdown",
   "id": "5b3ce79e",
   "metadata": {},
   "source": [
    "## 1. Statistics for Table 2 in Supplementary Information"
   ]
  },
  {
   "cell_type": "markdown",
   "id": "15922f1d",
   "metadata": {},
   "source": [
    "### a. Future Hydroelectric"
   ]
  },
  {
   "cell_type": "code",
   "execution_count": null,
   "id": "f33bb645",
   "metadata": {},
   "outputs": [],
   "source": [
    "filter_dataframe_by_indices(reemission_outputs.set_index(\"id\"),sto_future_ids).describe()"
   ]
  },
  {
   "cell_type": "code",
   "execution_count": null,
   "id": "ac183dd9",
   "metadata": {},
   "outputs": [],
   "source": [
    "filter_dataframe_by_indices(reemission_outputs.set_index(\"id\"),sto_future_ids).\\\n",
    "    loc[:,['res_area', 'res_volume_km3', 'em_net_total', 'em_net_total_soued']].sum()"
   ]
  },
  {
   "cell_type": "code",
   "execution_count": null,
   "id": "810de55a",
   "metadata": {},
   "outputs": [],
   "source": [
    "filter_dataframe_by_indices(reemission_inputs.set_index(\"id\"),sto_future_ids).\\\n",
    "    loc[:,['res_area', 'res_volume_km3', 'res_mean_depth']].mean()"
   ]
  },
  {
   "cell_type": "markdown",
   "id": "52e972d6",
   "metadata": {},
   "source": [
    "### a. Existing Hydroelectric"
   ]
  },
  {
   "cell_type": "code",
   "execution_count": null,
   "id": "04b1d61d",
   "metadata": {},
   "outputs": [],
   "source": [
    "filter_dataframe_by_indices(reemission_outputs.set_index(\"id\"),sto_existing_ids).describe()"
   ]
  },
  {
   "cell_type": "code",
   "execution_count": null,
   "id": "676b06ea",
   "metadata": {},
   "outputs": [],
   "source": [
    "filter_dataframe_by_indices(reemission_outputs.set_index(\"id\"),sto_existing_ids).\\\n",
    "    loc[:,['res_area', 'res_volume_km3', 'em_net_total', 'em_net_total_soued']].sum()"
   ]
  },
  {
   "cell_type": "code",
   "execution_count": null,
   "id": "fc7ba557",
   "metadata": {},
   "outputs": [],
   "source": [
    "filter_dataframe_by_indices(reemission_inputs.set_index(\"id\"),sto_existing_ids).\\\n",
    "    loc[:,['res_area', 'res_volume_km3', 'res_mean_depth']].mean()"
   ]
  },
  {
   "cell_type": "markdown",
   "id": "013fbfa9",
   "metadata": {},
   "source": [
    "### c. Future Multipurpose"
   ]
  },
  {
   "cell_type": "code",
   "execution_count": null,
   "id": "a132d4b0",
   "metadata": {},
   "outputs": [],
   "source": [
    "filter_dataframe_by_indices(reemission_outputs.set_index(\"id\"),multi_future_ids).\\\n",
    "    loc[:,['res_area', 'res_volume_km3', 'em_net_total', 'em_net_total_soued']].sum()"
   ]
  },
  {
   "cell_type": "code",
   "execution_count": null,
   "id": "bf0fce84",
   "metadata": {},
   "outputs": [],
   "source": [
    "filter_dataframe_by_indices(reemission_inputs.set_index(\"id\"),multi_future_ids).\\\n",
    "    loc[:,['res_area', 'res_volume_km3', 'res_mean_depth']].mean()"
   ]
  },
  {
   "cell_type": "markdown",
   "id": "9bcf4b25",
   "metadata": {},
   "source": [
    "### d. Existing Multipurpose"
   ]
  },
  {
   "cell_type": "code",
   "execution_count": null,
   "id": "7ff3afdc",
   "metadata": {},
   "outputs": [],
   "source": [
    "filter_dataframe_by_indices(reemission_outputs.set_index(\"id\"),multi_existing_ids).\\\n",
    "    loc[:,['res_area', 'res_volume_km3', 'em_net_total', 'em_net_total_soued']].sum()"
   ]
  },
  {
   "cell_type": "code",
   "execution_count": null,
   "id": "c1ed3880",
   "metadata": {},
   "outputs": [],
   "source": [
    "filter_dataframe_by_indices(reemission_inputs.set_index(\"id\"),multi_existing_ids).\\\n",
    "    loc[:,['res_area', 'res_volume_km3', 'res_mean_depth']].mean()"
   ]
  },
  {
   "cell_type": "code",
   "execution_count": null,
   "id": "a2bbfa34",
   "metadata": {},
   "outputs": [],
   "source": [
    "mp_hp = 844.0 / (844.0 + 369.5) * 1340.7\n",
    "mp_ir = 369.5 / (844.0 + 369.5) * 1340.7\n",
    "print(mp_hp, mp_ir)"
   ]
  },
  {
   "cell_type": "markdown",
   "id": "ca0bf2bd",
   "metadata": {},
   "source": [
    "### e. Irrigation"
   ]
  },
  {
   "cell_type": "code",
   "execution_count": null,
   "id": "c80a91f0",
   "metadata": {},
   "outputs": [],
   "source": [
    "filter_dataframe_by_indices(reemission_outputs.set_index(\"id\"),irr_ids).\\\n",
    "    loc[:,['res_area', 'res_volume_km3', 'em_net_total', 'em_net_total_soued']].sum()"
   ]
  },
  {
   "cell_type": "code",
   "execution_count": null,
   "id": "10c7de24",
   "metadata": {},
   "outputs": [],
   "source": [
    "filter_dataframe_by_indices(reemission_outputs.set_index(\"id\"),irr_ids).\\\n",
    "    loc[:,['res_area', 'res_volume_km3', 'em_net_total', 'em_net_total_soued']].mean()"
   ]
  },
  {
   "cell_type": "markdown",
   "id": "4030bb63",
   "metadata": {},
   "source": [
    "## Additional statistics... Hydroelectric reservoirs"
   ]
  },
  {
   "cell_type": "code",
   "execution_count": null,
   "id": "4ac4de8a",
   "metadata": {},
   "outputs": [],
   "source": [
    "# Areas in km2\n",
    "hp_inputs['res_area'].describe()"
   ]
  },
  {
   "cell_type": "code",
   "execution_count": null,
   "id": "4a55e3bd",
   "metadata": {},
   "outputs": [],
   "source": [
    "# Provide volumes in km3\n",
    "(hp_inputs['res_volume']/1e9).describe()"
   ]
  },
  {
   "cell_type": "code",
   "execution_count": null,
   "id": "7534d4f8",
   "metadata": {},
   "outputs": [],
   "source": [
    "hp_inputs['res_mean_depth'].describe()"
   ]
  },
  {
   "cell_type": "code",
   "execution_count": null,
   "id": "a5f0f148",
   "metadata": {},
   "outputs": [],
   "source": [
    "hp_outputs[['co2_net', 'co2_net_soued']].describe()"
   ]
  },
  {
   "cell_type": "code",
   "execution_count": null,
   "id": "8dfaf874",
   "metadata": {},
   "outputs": [],
   "source": [
    "hp_outputs[['co2_net_total', 'co2_net_total_soued']].describe()"
   ]
  },
  {
   "cell_type": "code",
   "execution_count": null,
   "id": "e8e0ddb7",
   "metadata": {},
   "outputs": [],
   "source": [
    "hp_outputs[['ch4_net', 'ch4_net']].describe()"
   ]
  },
  {
   "cell_type": "code",
   "execution_count": null,
   "id": "eedfdf09",
   "metadata": {},
   "outputs": [],
   "source": [
    "hp_outputs[['total_net', 'total_net_soued']].describe()"
   ]
  },
  {
   "cell_type": "markdown",
   "id": "92142b95",
   "metadata": {},
   "source": [
    "## Irrigation reservoirs"
   ]
  },
  {
   "cell_type": "code",
   "execution_count": null,
   "id": "6c001159",
   "metadata": {},
   "outputs": [],
   "source": [
    "irr_inputs['res_area'].describe()"
   ]
  },
  {
   "cell_type": "code",
   "execution_count": null,
   "id": "f6a8cadb",
   "metadata": {},
   "outputs": [],
   "source": [
    "# Provide volumes in km3\n",
    "(irr_inputs['res_volume']/1e9).describe()"
   ]
  },
  {
   "cell_type": "code",
   "execution_count": null,
   "id": "a37ecb4b",
   "metadata": {},
   "outputs": [],
   "source": [
    "# sorted(irr_inputs['res_area'].to_list())\n",
    "irr_inputs['res_mean_depth'].describe()"
   ]
  },
  {
   "cell_type": "code",
   "execution_count": null,
   "id": "4fd5ce34",
   "metadata": {},
   "outputs": [],
   "source": [
    "irr_outputs[['total_net', 'total_net_soued']].describe()"
   ]
  },
  {
   "cell_type": "code",
   "execution_count": null,
   "id": "6301df8e",
   "metadata": {},
   "outputs": [],
   "source": [
    "irr_outputs[['co2_net', 'co2_net_soued']].describe()"
   ]
  },
  {
   "cell_type": "code",
   "execution_count": null,
   "id": "1bd66b15",
   "metadata": {},
   "outputs": [],
   "source": [
    "irr_outputs[['ch4_net', 'ch4_net_soued']].describe()"
   ]
  },
  {
   "cell_type": "code",
   "execution_count": null,
   "id": "38d2a5c5",
   "metadata": {},
   "outputs": [],
   "source": [
    "irr_inputs['res_mean_depth'].hist(bins=100)"
   ]
  },
  {
   "cell_type": "markdown",
   "id": "eb9c4246",
   "metadata": {},
   "source": [
    "## Multipurpose reservoirs"
   ]
  },
  {
   "cell_type": "code",
   "execution_count": null,
   "id": "aca6129e",
   "metadata": {},
   "outputs": [],
   "source": [
    "multi_inputs['res_area'].describe()"
   ]
  },
  {
   "cell_type": "code",
   "execution_count": null,
   "id": "d6e33ce8",
   "metadata": {},
   "outputs": [],
   "source": [
    "# Provide volumes in km3\n",
    "(multi_inputs['res_volume']/1e9).describe()"
   ]
  },
  {
   "cell_type": "code",
   "execution_count": null,
   "id": "f2711301",
   "metadata": {},
   "outputs": [],
   "source": [
    "# sorted(irr_inputs['res_area'].to_list())\n",
    "multi_inputs['res_mean_depth'].describe()"
   ]
  },
  {
   "cell_type": "code",
   "execution_count": null,
   "id": "5e0b091f",
   "metadata": {},
   "outputs": [],
   "source": [
    "multi_outputs[['total_net', 'total_net_soued']].describe()"
   ]
  },
  {
   "cell_type": "code",
   "execution_count": null,
   "id": "bb25f0c3",
   "metadata": {},
   "outputs": [],
   "source": [
    "multi_outputs[['co2_net', 'co2_net_soued']].describe()"
   ]
  },
  {
   "cell_type": "code",
   "execution_count": null,
   "id": "21bd5654",
   "metadata": {},
   "outputs": [],
   "source": [
    "multi_outputs[['ch4_net', 'ch4_net_soued']].describe()"
   ]
  },
  {
   "cell_type": "markdown",
   "id": "051e20d9",
   "metadata": {},
   "source": [
    "## Data needed for the Emission intensities of existing and planned hydropower section"
   ]
  },
  {
   "cell_type": "code",
   "execution_count": null,
   "id": "6849a23a",
   "metadata": {},
   "outputs": [],
   "source": []
  },
  {
   "cell_type": "code",
   "execution_count": null,
   "id": "60872883",
   "metadata": {},
   "outputs": [],
   "source": [
    "moo_inputs_future_sto"
   ]
  },
  {
   "cell_type": "code",
   "execution_count": null,
   "id": "2c319492",
   "metadata": {},
   "outputs": [],
   "source": [
    "print(\"Emission intensities future storage hydro\")\n",
    "pd.DataFrame(\n",
    "    {\n",
    "        \"G-res\": calc_em_intensity(data=moo_inputs_future_sto).describe(),\n",
    "        \"Soued\": calc_em_intensity_soued(data=moo_inputs_future_sto).describe()\n",
    "    })"
   ]
  },
  {
   "cell_type": "code",
   "execution_count": null,
   "id": "9d3a91a0",
   "metadata": {},
   "outputs": [],
   "source": [
    "print(\"Emission intensities existing storage hydro\")\n",
    "pd.DataFrame(\n",
    "    {\n",
    "        \"G-res\": calc_em_intensity(data=moo_inputs_existing_sto).describe(),\n",
    "        \"Soued\": calc_em_intensity_soued(data=moo_inputs_existing_sto).describe()\n",
    "    })"
   ]
  },
  {
   "cell_type": "code",
   "execution_count": null,
   "id": "704c4f2b",
   "metadata": {},
   "outputs": [],
   "source": [
    "print(\"Emission intensities future multipurpose\")\n",
    "pd.DataFrame(\n",
    "    {\n",
    "        \"G-res\": calc_em_intensity(moo_inputs_future_multi).describe(),\n",
    "        \"Soued\": calc_em_intensity_soued(moo_inputs_future_multi).describe()\n",
    "    })"
   ]
  },
  {
   "cell_type": "code",
   "execution_count": null,
   "id": "a24aebfb",
   "metadata": {},
   "outputs": [],
   "source": [
    "print(\"Emission intensities existing multipurpose\")\n",
    "pd.DataFrame(\n",
    "    {\n",
    "        \"G-res\": calc_em_intensity(moo_inputs_existing_multi).describe(),\n",
    "        \"Soued\": calc_em_intensity_soued(moo_inputs_existing_multi).describe()\n",
    "    })"
   ]
  },
  {
   "cell_type": "code",
   "execution_count": null,
   "id": "94d1ec17",
   "metadata": {},
   "outputs": [],
   "source": [
    "print(\"Emission intensities future assets\")\n",
    "pd.DataFrame(\n",
    "    {\n",
    "        \"G-res\": calc_em_intensity(moo_inputs_future).describe(),\n",
    "        \"Soued\": calc_em_intensity_soued(moo_inputs_future).describe()\n",
    "    })"
   ]
  },
  {
   "cell_type": "code",
   "execution_count": null,
   "id": "cad97283",
   "metadata": {},
   "outputs": [],
   "source": [
    "print(\"Emission intensities existing assets\")\n",
    "pd.DataFrame(\n",
    "    {\n",
    "        \"G-res\": calc_em_intensity(moo_inputs_existing).describe(),\n",
    "        \"Soued\": calc_em_intensity_soued(moo_inputs_existing).describe()\n",
    "    })"
   ]
  },
  {
   "cell_type": "code",
   "execution_count": null,
   "id": "929ac323",
   "metadata": {},
   "outputs": [],
   "source": [
    "moo_inputs.query('status==\"Future\"')[\"HP_mean\"].sum()"
   ]
  },
  {
   "cell_type": "code",
   "execution_count": null,
   "id": "c9ce3c49",
   "metadata": {},
   "outputs": [],
   "source": [
    "moo_inputs.query('status==\"Existing\"')[\"HP_mean\"].sum()"
   ]
  },
  {
   "cell_type": "code",
   "execution_count": null,
   "id": "187038b0",
   "metadata": {},
   "outputs": [],
   "source": [
    "moo_inputs.query('type==\"multipurpose\"').head()"
   ]
  },
  {
   "cell_type": "code",
   "execution_count": null,
   "id": "040c1567",
   "metadata": {},
   "outputs": [],
   "source": [
    "moo_inputs.head()"
   ]
  },
  {
   "cell_type": "code",
   "execution_count": null,
   "id": "354166a2",
   "metadata": {},
   "outputs": [],
   "source": [
    "moo_inputs.query('status == \"Future\" and hp_type_ifc == \"RoR\"').count().values[0]"
   ]
  },
  {
   "cell_type": "code",
   "execution_count": null,
   "id": "6ec8b393",
   "metadata": {},
   "outputs": [],
   "source": [
    "moo_inputs.query('status == \"Existing\" and hp_type_ifc == \"RoR\"').count().values[0]"
   ]
  },
  {
   "cell_type": "code",
   "execution_count": null,
   "id": "6a22c1b4",
   "metadata": {},
   "outputs": [],
   "source": [
    "moo_inputs.query('type == \"hydroelectric\" and status == \"Existing\" and hp_type_ifc == \"S\"').count().values[0]"
   ]
  },
  {
   "cell_type": "code",
   "execution_count": null,
   "id": "2dd59388",
   "metadata": {},
   "outputs": [],
   "source": [
    "moo_inputs.query('type == \"multipurpose\" and status == \"Existing\" and hp_type_ifc == \"S\"').count().values[0]"
   ]
  },
  {
   "cell_type": "markdown",
   "id": "3f2dc2f9",
   "metadata": {},
   "source": [
    "### Find emission intensities (note: does not include information about emissions from emission factors)"
   ]
  },
  {
   "cell_type": "code",
   "execution_count": null,
   "id": "41eeb978",
   "metadata": {},
   "outputs": [],
   "source": [
    "gdf = gpd.read_file(shp_path).rename(columns={'reservoir_': 'res_type'})"
   ]
  },
  {
   "cell_type": "code",
   "execution_count": null,
   "id": "ed81c9c6",
   "metadata": {},
   "outputs": [],
   "source": [
    "gdf.columns"
   ]
  },
  {
   "cell_type": "code",
   "execution_count": null,
   "id": "43af16e4",
   "metadata": {},
   "outputs": [],
   "source": [
    "gdf['status']"
   ]
  },
  {
   "cell_type": "code",
   "execution_count": null,
   "id": "ad3ee638",
   "metadata": {},
   "outputs": [],
   "source": [
    "print(gdf[['hp_type_re', 'em_intensi']])"
   ]
  },
  {
   "cell_type": "code",
   "execution_count": null,
   "id": "3c45a0c5",
   "metadata": {},
   "outputs": [],
   "source": [
    "gdf.query('hp_type_re != \"ror\"')['em_intensi'].describe()"
   ]
  },
  {
   "cell_type": "code",
   "execution_count": null,
   "id": "075f56b3",
   "metadata": {},
   "outputs": [],
   "source": [
    "gdf_trimmed = gdf[gdf['em_intensi']>0.6]"
   ]
  },
  {
   "cell_type": "code",
   "execution_count": null,
   "id": "3ab74216",
   "metadata": {},
   "outputs": [],
   "source": [
    "gdf_trimmed.query('hp_type_re != \"ror\"')['em_intensi'].describe()"
   ]
  },
  {
   "cell_type": "code",
   "execution_count": null,
   "id": "b3174f51",
   "metadata": {
    "scrolled": true
   },
   "outputs": [],
   "source": [
    "gdf.query('res_type == \"multipurpose\"')['em_intensi'].describe()"
   ]
  },
  {
   "cell_type": "code",
   "execution_count": null,
   "id": "48856925",
   "metadata": {},
   "outputs": [],
   "source": [
    "gdf[(gdf.ro_r_or_st == 'S') & (gdf.res_type == 'hydroelectric')]['em_intensi'].describe()"
   ]
  },
  {
   "cell_type": "code",
   "execution_count": null,
   "id": "734fec06",
   "metadata": {},
   "outputs": [],
   "source": [
    "gdf.query('res_type == \"multipurpose\"')['des_head_1'].astype(float).describe()"
   ]
  },
  {
   "cell_type": "code",
   "execution_count": null,
   "id": "a06005f0",
   "metadata": {},
   "outputs": [],
   "source": [
    "gdf[(gdf.ro_r_or_st == 'S') & (gdf.res_type == 'hydroelectric')]['des_head_1'].astype(float).describe()"
   ]
  },
  {
   "cell_type": "code",
   "execution_count": null,
   "id": "4450273c",
   "metadata": {},
   "outputs": [],
   "source": [
    "hp_sto = gdf[(gdf.ro_r_or_st == 'S') & (gdf.res_type == 'hydroelectric')]\n",
    "hp_sto.query('status == \"Built\"')['em_intensi'].describe()"
   ]
  },
  {
   "cell_type": "code",
   "execution_count": null,
   "id": "de6ec516",
   "metadata": {},
   "outputs": [],
   "source": [
    "hp_sto.query('status != \"Built\"')['em_intensi'].describe()"
   ]
  },
  {
   "cell_type": "code",
   "execution_count": null,
   "id": "5794485f",
   "metadata": {},
   "outputs": [],
   "source": [
    "gdf[gdf['index'] == \"Lemro 2\"]['em_intensi']"
   ]
  },
  {
   "cell_type": "code",
   "execution_count": null,
   "id": "60053081",
   "metadata": {},
   "outputs": [],
   "source": [
    "gdf[gdf['index'] == \"Belin\"]['em_intensi']"
   ]
  },
  {
   "cell_type": "code",
   "execution_count": null,
   "id": "2d288ee8",
   "metadata": {},
   "outputs": [],
   "source": [
    "gdf[gdf['index'] == \"Laza\"]['em_intensi']"
   ]
  },
  {
   "cell_type": "markdown",
   "id": "e7ce95a2",
   "metadata": {},
   "source": [
    "### Hydropower generation"
   ]
  },
  {
   "cell_type": "code",
   "execution_count": null,
   "id": "864f985f",
   "metadata": {},
   "outputs": [],
   "source": [
    "current_gen = gdf.query('status == \"Built\"')['ann_gen'].sum()"
   ]
  },
  {
   "cell_type": "code",
   "execution_count": null,
   "id": "057611d7",
   "metadata": {},
   "outputs": [],
   "source": [
    "planned_gen = gdf.query('status != \"Built\"')['ann_gen'].sum()"
   ]
  },
  {
   "cell_type": "code",
   "execution_count": null,
   "id": "e12e9096",
   "metadata": {},
   "outputs": [],
   "source": [
    "current_gen, planned_gen"
   ]
  },
  {
   "cell_type": "code",
   "execution_count": null,
   "id": "ac7a2aa5",
   "metadata": {},
   "outputs": [],
   "source": [
    "current_gen + planned_gen"
   ]
  },
  {
   "cell_type": "code",
   "execution_count": null,
   "id": "a75606aa",
   "metadata": {},
   "outputs": [],
   "source": [
    "current_gen / (current_gen + planned_gen)"
   ]
  },
  {
   "cell_type": "markdown",
   "id": "a3acb872",
   "metadata": {},
   "source": [
    "### Optimization"
   ]
  },
  {
   "cell_type": "code",
   "execution_count": null,
   "id": "1a80f403",
   "metadata": {},
   "outputs": [],
   "source": [
    "nondom = pd.read_csv('em_int_nondom_df.csv')"
   ]
  },
  {
   "cell_type": "code",
   "execution_count": null,
   "id": "722e23ec",
   "metadata": {},
   "outputs": [],
   "source": [
    "nobuilt = nondom[nondom['Scenario, [1/0]']==0]\n",
    "built = nondom[nondom['Scenario, [1/0]']==1]"
   ]
  },
  {
   "cell_type": "code",
   "execution_count": null,
   "id": "3d703333",
   "metadata": {},
   "outputs": [],
   "source": [
    "nobuilt[nobuilt['Mean annual HP, [MW]']>1814].head(1)"
   ]
  },
  {
   "cell_type": "code",
   "execution_count": null,
   "id": "59efa810",
   "metadata": {},
   "outputs": [],
   "source": [
    "built.head(1)"
   ]
  }
 ],
 "metadata": {
  "kernelspec": {
   "display_name": "Python 3 (ipykernel)",
   "language": "python",
   "name": "python3"
  },
  "language_info": {
   "codemirror_mode": {
    "name": "ipython",
    "version": 3
   },
   "file_extension": ".py",
   "mimetype": "text/x-python",
   "name": "python",
   "nbconvert_exporter": "python",
   "pygments_lexer": "ipython3",
   "version": "3.10.12"
  }
 },
 "nbformat": 4,
 "nbformat_minor": 5
}
